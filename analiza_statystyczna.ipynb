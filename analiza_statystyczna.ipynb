{
 "cells": [
  {
   "cell_type": "markdown",
   "id": "534b9bac",
   "metadata": {},
   "source": [
    "Wczytanie bibliotek do przetwarzania i wizualizacji danych oraz wczytanie bazy danych."
   ]
  },
  {
   "cell_type": "code",
   "execution_count": 1,
   "id": "91ea509c",
   "metadata": {},
   "outputs": [
    {
     "data": {
      "text/html": [
       "<div>\n",
       "<style scoped>\n",
       "    .dataframe tbody tr th:only-of-type {\n",
       "        vertical-align: middle;\n",
       "    }\n",
       "\n",
       "    .dataframe tbody tr th {\n",
       "        vertical-align: top;\n",
       "    }\n",
       "\n",
       "    .dataframe thead th {\n",
       "        text-align: right;\n",
       "    }\n",
       "</style>\n",
       "<table border=\"1\" class=\"dataframe\">\n",
       "  <thead>\n",
       "    <tr style=\"text-align: right;\">\n",
       "      <th></th>\n",
       "      <th>PassengerId</th>\n",
       "      <th>Survived</th>\n",
       "      <th>Pclass</th>\n",
       "      <th>Name</th>\n",
       "      <th>Sex</th>\n",
       "      <th>Age</th>\n",
       "      <th>SibSp</th>\n",
       "      <th>Parch</th>\n",
       "      <th>Ticket</th>\n",
       "      <th>Fare</th>\n",
       "      <th>Cabin</th>\n",
       "      <th>Embarked</th>\n",
       "    </tr>\n",
       "  </thead>\n",
       "  <tbody>\n",
       "    <tr>\n",
       "      <th>0</th>\n",
       "      <td>1</td>\n",
       "      <td>0</td>\n",
       "      <td>3</td>\n",
       "      <td>Braund, Mr. Owen Harris</td>\n",
       "      <td>male</td>\n",
       "      <td>22.0</td>\n",
       "      <td>1</td>\n",
       "      <td>0</td>\n",
       "      <td>A/5 21171</td>\n",
       "      <td>7.2500</td>\n",
       "      <td>NaN</td>\n",
       "      <td>S</td>\n",
       "    </tr>\n",
       "    <tr>\n",
       "      <th>1</th>\n",
       "      <td>2</td>\n",
       "      <td>1</td>\n",
       "      <td>1</td>\n",
       "      <td>Cumings, Mrs. John Bradley (Florence Briggs Th...</td>\n",
       "      <td>female</td>\n",
       "      <td>38.0</td>\n",
       "      <td>1</td>\n",
       "      <td>0</td>\n",
       "      <td>PC 17599</td>\n",
       "      <td>71.2833</td>\n",
       "      <td>C85</td>\n",
       "      <td>C</td>\n",
       "    </tr>\n",
       "    <tr>\n",
       "      <th>2</th>\n",
       "      <td>3</td>\n",
       "      <td>1</td>\n",
       "      <td>3</td>\n",
       "      <td>Heikkinen, Miss. Laina</td>\n",
       "      <td>female</td>\n",
       "      <td>26.0</td>\n",
       "      <td>0</td>\n",
       "      <td>0</td>\n",
       "      <td>STON/O2. 3101282</td>\n",
       "      <td>7.9250</td>\n",
       "      <td>NaN</td>\n",
       "      <td>S</td>\n",
       "    </tr>\n",
       "    <tr>\n",
       "      <th>3</th>\n",
       "      <td>4</td>\n",
       "      <td>1</td>\n",
       "      <td>1</td>\n",
       "      <td>Futrelle, Mrs. Jacques Heath (Lily May Peel)</td>\n",
       "      <td>female</td>\n",
       "      <td>35.0</td>\n",
       "      <td>1</td>\n",
       "      <td>0</td>\n",
       "      <td>113803</td>\n",
       "      <td>53.1000</td>\n",
       "      <td>C123</td>\n",
       "      <td>S</td>\n",
       "    </tr>\n",
       "    <tr>\n",
       "      <th>4</th>\n",
       "      <td>5</td>\n",
       "      <td>0</td>\n",
       "      <td>3</td>\n",
       "      <td>Allen, Mr. William Henry</td>\n",
       "      <td>male</td>\n",
       "      <td>35.0</td>\n",
       "      <td>0</td>\n",
       "      <td>0</td>\n",
       "      <td>373450</td>\n",
       "      <td>8.0500</td>\n",
       "      <td>NaN</td>\n",
       "      <td>S</td>\n",
       "    </tr>\n",
       "    <tr>\n",
       "      <th>...</th>\n",
       "      <td>...</td>\n",
       "      <td>...</td>\n",
       "      <td>...</td>\n",
       "      <td>...</td>\n",
       "      <td>...</td>\n",
       "      <td>...</td>\n",
       "      <td>...</td>\n",
       "      <td>...</td>\n",
       "      <td>...</td>\n",
       "      <td>...</td>\n",
       "      <td>...</td>\n",
       "      <td>...</td>\n",
       "    </tr>\n",
       "    <tr>\n",
       "      <th>886</th>\n",
       "      <td>887</td>\n",
       "      <td>0</td>\n",
       "      <td>2</td>\n",
       "      <td>Montvila, Rev. Juozas</td>\n",
       "      <td>male</td>\n",
       "      <td>27.0</td>\n",
       "      <td>0</td>\n",
       "      <td>0</td>\n",
       "      <td>211536</td>\n",
       "      <td>13.0000</td>\n",
       "      <td>NaN</td>\n",
       "      <td>S</td>\n",
       "    </tr>\n",
       "    <tr>\n",
       "      <th>887</th>\n",
       "      <td>888</td>\n",
       "      <td>1</td>\n",
       "      <td>1</td>\n",
       "      <td>Graham, Miss. Margaret Edith</td>\n",
       "      <td>female</td>\n",
       "      <td>19.0</td>\n",
       "      <td>0</td>\n",
       "      <td>0</td>\n",
       "      <td>112053</td>\n",
       "      <td>30.0000</td>\n",
       "      <td>B42</td>\n",
       "      <td>S</td>\n",
       "    </tr>\n",
       "    <tr>\n",
       "      <th>888</th>\n",
       "      <td>889</td>\n",
       "      <td>0</td>\n",
       "      <td>3</td>\n",
       "      <td>Johnston, Miss. Catherine Helen \"Carrie\"</td>\n",
       "      <td>female</td>\n",
       "      <td>NaN</td>\n",
       "      <td>1</td>\n",
       "      <td>2</td>\n",
       "      <td>W./C. 6607</td>\n",
       "      <td>23.4500</td>\n",
       "      <td>NaN</td>\n",
       "      <td>S</td>\n",
       "    </tr>\n",
       "    <tr>\n",
       "      <th>889</th>\n",
       "      <td>890</td>\n",
       "      <td>1</td>\n",
       "      <td>1</td>\n",
       "      <td>Behr, Mr. Karl Howell</td>\n",
       "      <td>male</td>\n",
       "      <td>26.0</td>\n",
       "      <td>0</td>\n",
       "      <td>0</td>\n",
       "      <td>111369</td>\n",
       "      <td>30.0000</td>\n",
       "      <td>C148</td>\n",
       "      <td>C</td>\n",
       "    </tr>\n",
       "    <tr>\n",
       "      <th>890</th>\n",
       "      <td>891</td>\n",
       "      <td>0</td>\n",
       "      <td>3</td>\n",
       "      <td>Dooley, Mr. Patrick</td>\n",
       "      <td>male</td>\n",
       "      <td>32.0</td>\n",
       "      <td>0</td>\n",
       "      <td>0</td>\n",
       "      <td>370376</td>\n",
       "      <td>7.7500</td>\n",
       "      <td>NaN</td>\n",
       "      <td>Q</td>\n",
       "    </tr>\n",
       "  </tbody>\n",
       "</table>\n",
       "<p>891 rows × 12 columns</p>\n",
       "</div>"
      ],
      "text/plain": [
       "     PassengerId  Survived  Pclass  \\\n",
       "0              1         0       3   \n",
       "1              2         1       1   \n",
       "2              3         1       3   \n",
       "3              4         1       1   \n",
       "4              5         0       3   \n",
       "..           ...       ...     ...   \n",
       "886          887         0       2   \n",
       "887          888         1       1   \n",
       "888          889         0       3   \n",
       "889          890         1       1   \n",
       "890          891         0       3   \n",
       "\n",
       "                                                  Name     Sex   Age  SibSp  \\\n",
       "0                              Braund, Mr. Owen Harris    male  22.0      1   \n",
       "1    Cumings, Mrs. John Bradley (Florence Briggs Th...  female  38.0      1   \n",
       "2                               Heikkinen, Miss. Laina  female  26.0      0   \n",
       "3         Futrelle, Mrs. Jacques Heath (Lily May Peel)  female  35.0      1   \n",
       "4                             Allen, Mr. William Henry    male  35.0      0   \n",
       "..                                                 ...     ...   ...    ...   \n",
       "886                              Montvila, Rev. Juozas    male  27.0      0   \n",
       "887                       Graham, Miss. Margaret Edith  female  19.0      0   \n",
       "888           Johnston, Miss. Catherine Helen \"Carrie\"  female   NaN      1   \n",
       "889                              Behr, Mr. Karl Howell    male  26.0      0   \n",
       "890                                Dooley, Mr. Patrick    male  32.0      0   \n",
       "\n",
       "     Parch            Ticket     Fare Cabin Embarked  \n",
       "0        0         A/5 21171   7.2500   NaN        S  \n",
       "1        0          PC 17599  71.2833   C85        C  \n",
       "2        0  STON/O2. 3101282   7.9250   NaN        S  \n",
       "3        0            113803  53.1000  C123        S  \n",
       "4        0            373450   8.0500   NaN        S  \n",
       "..     ...               ...      ...   ...      ...  \n",
       "886      0            211536  13.0000   NaN        S  \n",
       "887      0            112053  30.0000   B42        S  \n",
       "888      2        W./C. 6607  23.4500   NaN        S  \n",
       "889      0            111369  30.0000  C148        C  \n",
       "890      0            370376   7.7500   NaN        Q  \n",
       "\n",
       "[891 rows x 12 columns]"
      ]
     },
     "execution_count": 1,
     "metadata": {},
     "output_type": "execute_result"
    }
   ],
   "source": [
    "import numpy as np\n",
    "import pandas as pd\n",
    "\n",
    "import matplotlib.pyplot as plt\n",
    "import seaborn as sns\n",
    "\n",
    "from scipy import stats\n",
    "\n",
    "from sklearn.preprocessing import StandardScaler, MinMaxScaler\n",
    "dataset = pd.read_csv('titanic.csv')\n",
    "dataset"
   ]
  },
  {
   "cell_type": "markdown",
   "id": "79ded072",
   "metadata": {},
   "source": [
    "Przypisanie danych z kolumny Fare (bez wartości brakujących, jeśli występują) do zmiennej fare_values."
   ]
  },
  {
   "cell_type": "code",
   "execution_count": 2,
   "id": "d5ccd8e1",
   "metadata": {},
   "outputs": [
    {
     "name": "stdout",
     "output_type": "stream",
     "text": [
      "(891,)\n"
     ]
    }
   ],
   "source": [
    "fare_values = dataset.loc[dataset['Fare'].notnull(), 'Fare'].values\n",
    "print(fare_values.shape)"
   ]
  },
  {
   "cell_type": "markdown",
   "id": "1e6bd2ef",
   "metadata": {},
   "source": [
    "Badany zbiór danych zawiera 891 wartości."
   ]
  },
  {
   "cell_type": "markdown",
   "id": "d4e888e4",
   "metadata": {},
   "source": [
    "# średnia"
   ]
  },
  {
   "cell_type": "code",
   "execution_count": 3,
   "id": "9afb10e1",
   "metadata": {},
   "outputs": [
    {
     "name": "stdout",
     "output_type": "stream",
     "text": [
      "32.0\n"
     ]
    }
   ],
   "source": [
    "mean_fare = np.round(np.mean(fare_values))\n",
    "print(mean_fare)"
   ]
  },
  {
   "cell_type": "code",
   "execution_count": 4,
   "id": "d10e78ce",
   "metadata": {},
   "outputs": [
    {
     "name": "stdout",
     "output_type": "stream",
     "text": [
      "32.204207968574636\n"
     ]
    }
   ],
   "source": [
    "mean_fare = np.mean(fare_values)\n",
    "print(mean_fare)"
   ]
  },
  {
   "cell_type": "markdown",
   "id": "cd02e7db",
   "metadata": {},
   "source": [
    "Średnia arytmetyczna wartość opłaty wynosi ok. 32,2, a po zaokrągleniu 32."
   ]
  },
  {
   "cell_type": "markdown",
   "id": "134bd214",
   "metadata": {},
   "source": [
    "# mediana"
   ]
  },
  {
   "cell_type": "code",
   "execution_count": 5,
   "id": "431a501c",
   "metadata": {},
   "outputs": [
    {
     "name": "stdout",
     "output_type": "stream",
     "text": [
      "14.4542\n"
     ]
    }
   ],
   "source": [
    "median_fare = np.median(fare_values)\n",
    "print(median_fare)"
   ]
  },
  {
   "cell_type": "markdown",
   "id": "0b7d997a",
   "metadata": {},
   "source": [
    "Wysokość opłaty znajdująca się po środku zbioru zmiennej Fare wynosi 14,4542."
   ]
  },
  {
   "cell_type": "markdown",
   "id": "1f776e41",
   "metadata": {},
   "source": [
    "# moda"
   ]
  },
  {
   "cell_type": "code",
   "execution_count": 6,
   "id": "4ac273d9",
   "metadata": {},
   "outputs": [
    {
     "name": "stdout",
     "output_type": "stream",
     "text": [
      "ModeResult(mode=array([8.05]), count=array([43]))\n"
     ]
    }
   ],
   "source": [
    "mode_fare = stats.mode(fare_values)\n",
    "print(mode_fare)"
   ]
  },
  {
   "cell_type": "markdown",
   "id": "6b6eab13",
   "metadata": {},
   "source": [
    "Najczęściej występującą wartością opłaty w zbiorze zmiennej Fare jest 8.05, powtarza się 43 razy."
   ]
  },
  {
   "cell_type": "markdown",
   "id": "314c92a6",
   "metadata": {},
   "source": [
    "# kwartyle"
   ]
  },
  {
   "cell_type": "code",
   "execution_count": 7,
   "id": "606ac526",
   "metadata": {},
   "outputs": [
    {
     "name": "stdout",
     "output_type": "stream",
     "text": [
      "Q0: 0.0\n",
      "Q1: 8.0\n",
      "Q2: 14.0\n",
      "Q3: 31.0\n",
      "Q4: 512.0\n"
     ]
    }
   ],
   "source": [
    "q0 = np.quantile(fare_values, 0.0)\n",
    "q1 = np.round(np.quantile(fare_values, 0.25))\n",
    "q3 = np.round(np.quantile(fare_values, 0.75))\n",
    "q4 = np.round(np.quantile(fare_values, 1.0))\n",
    "print(f'Q0: {q0}')\n",
    "print(f'Q1: {q1}')\n",
    "print(f'Q2: {np.round(median_fare)}')\n",
    "print(f'Q3: {q3}')\n",
    "print(f'Q4: {q4}')"
   ]
  },
  {
   "cell_type": "markdown",
   "id": "3c1837d8",
   "metadata": {},
   "source": [
    "Kwartyl Q0 wskazuje na najniższą opłatę, która wyniosła 0.\n",
    "\n",
    "Kwartyl Q1 informuje, że 25% opłat było o wartości 8 lub mniejszej.\n",
    "\n",
    "Kwartyl Q2 to mediana, czyli środkowa wartość znajdująca się w zbiorze zmiennej Fare, wynosi 14.\n",
    "\n",
    "Kwartyl Q3 informuje, że 3/4 opłat miało wartość do 31.\n",
    "\n",
    "Kwartyl Q4 wskazuje najwyższą wartość opłaty i jest to 512.\n",
    "\n",
    "Poniżej znajduje się wizualizacji wyliczonych powyżej wartości."
   ]
  },
  {
   "cell_type": "code",
   "execution_count": 8,
   "id": "06d0c8db",
   "metadata": {},
   "outputs": [
    {
     "data": {
      "image/png": "[encoded data removed]",
      "text/plain": [
       "<Figure size 432x288 with 1 Axes>"
      ]
     },
     "metadata": {
      "needs_background": "light"
     },
     "output_type": "display_data"
    }
   ],
   "source": [
    "plt.hist(fare_values, bins=10)\n",
    "plt.axvline(x = mean_fare, color='red', label = 'Średnia')\n",
    "plt.axvline(x = median_fare, color='green', label = 'Mediana')\n",
    "plt.axvline(x = mode_fare[0], color='orange', label = 'Moda')\n",
    "plt.axvline(x = q0, color='pink', label = 'Min')\n",
    "plt.axvline(x = q1, color='black', label = 'Q1')\n",
    "plt.axvline(x = q3, color='black', label = 'Q3')\n",
    "plt.axvline(x = q4, color='pink', label = 'Max')\n",
    "plt.legend(loc='upper right')\n",
    "plt.show()"
   ]
  },
  {
   "cell_type": "markdown",
   "id": "967098f7",
   "metadata": {},
   "source": [
    "Rozkład zmiennej Fare jest pozytywnie skośny, ponieważ patrząc od lewej najpierw występuje moda (ok. 8), następnie mediana (ok. 14), a potem średnia (ok. 32)."
   ]
  },
  {
   "cell_type": "markdown",
   "id": "9dd74cea",
   "metadata": {},
   "source": [
    "# zakres"
   ]
  },
  {
   "cell_type": "code",
   "execution_count": 15,
   "id": "8d351ede",
   "metadata": {},
   "outputs": [
    {
     "name": "stdout",
     "output_type": "stream",
     "text": [
      "512.3292\n"
     ]
    }
   ],
   "source": [
    "range_fare = max(fare_values) - min(fare_values)\n",
    "print(range_fare)"
   ]
  },
  {
   "cell_type": "markdown",
   "id": "29aa6652",
   "metadata": {},
   "source": [
    "Zakres wskazuje na rozpiętość danych od najniższej do najwyższej wartości w rozkładzie. W badanym przykładzie zakres danych zmiennej Fare wynosi 512."
   ]
  },
  {
   "cell_type": "markdown",
   "id": "2d87e37d",
   "metadata": {},
   "source": [
    "# rozstęp międzykwartylowy"
   ]
  },
  {
   "cell_type": "code",
   "execution_count": 9,
   "id": "d3d2f268",
   "metadata": {},
   "outputs": [
    {
     "name": "stdout",
     "output_type": "stream",
     "text": [
      "23.0\n"
     ]
    }
   ],
   "source": [
    "iqr = q3 - q1\n",
    "print(iqr)"
   ]
  },
  {
   "cell_type": "markdown",
   "id": "7ac4828f",
   "metadata": {},
   "source": [
    "Kwartyle dzielą każdy rozkład, który jest uporządkowany od najniższego do najwyższego, na cztery równe części. Rozstęp międzykwartylowy jest to środkowa połowa rozkładu zmiennej znajdująca się pomiędzy kwartylem pierwszym i trzecim. Rozstęp mierzy rozproszenie środkowej części danych; w badanym przypadku wynosi 23.\n",
    "\n",
    "Poniżej widoczny jest wykres pudełkowy. Dolny i górny bok pudełka rozciągnięte są pomiędzy 1 a 3 kwartylem i są relatywnie blisko siebie położone w porównaniu do dystasu, jaki widoczny jest pomiędzy górnym bokiem pudełka a wartościami odstającymi. Ten dystans uwidacznia relatywnie sporo i dużych wartości odstających od tych najczęściej występujących."
   ]
  },
  {
   "cell_type": "code",
   "execution_count": 10,
   "id": "e53fc666",
   "metadata": {},
   "outputs": [
    {
     "data": {
      "image/png": "[encoded data removed]",
      "text/plain": [
       "<Figure size 432x288 with 1 Axes>"
      ]
     },
     "metadata": {
      "needs_background": "light"
     },
     "output_type": "display_data"
    }
   ],
   "source": [
    "plt.boxplot(fare_values)\n",
    "plt.show()"
   ]
  },
  {
   "cell_type": "markdown",
   "id": "df325dbb",
   "metadata": {},
   "source": [
    "# wariancja"
   ]
  },
  {
   "cell_type": "code",
   "execution_count": 11,
   "id": "dffe3d7b",
   "metadata": {},
   "outputs": [
    {
     "name": "stdout",
     "output_type": "stream",
     "text": [
      "2469.436845743116\n"
     ]
    }
   ],
   "source": [
    "variance_fare = np.var(fare_values, ddof=1)\n",
    "print(variance_fare)"
   ]
  },
  {
   "cell_type": "markdown",
   "id": "73ae10c6",
   "metadata": {},
   "source": [
    "Wariancja mierzy dystans wartości w zbiorze od średniej, a tym samym od każdej innej wartości. Duża wariancja wskazuje, że liczby w zbiorze są relatywnie daleko od średniej i od siebie nawzajem. W badanym zbiorze wariancja jest relatywnie wysoka."
   ]
  },
  {
   "cell_type": "markdown",
   "id": "4933e39c",
   "metadata": {},
   "source": [
    "# odchylenie standardowe"
   ]
  },
  {
   "cell_type": "code",
   "execution_count": 12,
   "id": "c7dc6965",
   "metadata": {},
   "outputs": [
    {
     "name": "stdout",
     "output_type": "stream",
     "text": [
      "49.6934285971809\n"
     ]
    }
   ],
   "source": [
    "print(variance_fare**(1/2))"
   ]
  },
  {
   "cell_type": "markdown",
   "id": "a653f0b2",
   "metadata": {},
   "source": [
    "Relatywnie duża wariancja wskazuje, że wartości w zbiorze zmiennej Fare są dość zróżnicowane i rozproszone od średniej, co wizualizuje powyższy wykres pudełkowy. Ochylenie standardowe wskazuje na relatywnie spore oddalenie wartości od średniej w zbiorze zmiennej Fare, także na spore rozproszenie wartości w zbiorze."
   ]
  },
  {
   "cell_type": "markdown",
   "id": "fdbeaf06",
   "metadata": {},
   "source": [
    "# skalowanie zmiennej"
   ]
  },
  {
   "cell_type": "code",
   "execution_count": 13,
   "id": "1c1c6e84",
   "metadata": {},
   "outputs": [
    {
     "data": {
      "image/png": "[encoded data removed]",
      "text/plain": [
       "<Figure size 432x288 with 1 Axes>"
      ]
     },
     "metadata": {
      "needs_background": "light"
     },
     "output_type": "display_data"
    },
    {
     "name": "stdout",
     "output_type": "stream",
     "text": [
      "Średnia: 3.987332972840069e-18\n",
      "Odchylenie standardowe: 1.0005616400330457\n"
     ]
    }
   ],
   "source": [
    "scaler_standardized = StandardScaler()\n",
    "standardized_fare_values = scaler_standardized.fit_transform(fare_values.reshape(-1, 1))\n",
    "plt.hist(standardized_fare_values, bins=20)\n",
    "plt.axvline(x = standardized_fare_values.mean(), color='red', label = 'Średnia')\n",
    "plt.show()\n",
    "print(f'Średnia: {standardized_fare_values.mean()}')\n",
    "print(f'Odchylenie standardowe: {np.std(standardized_fare_values, ddof=1)}')"
   ]
  },
  {
   "cell_type": "markdown",
   "id": "dc65d2ed",
   "metadata": {},
   "source": [
    "Powyżej zastosowano standaryzację zmiennej Fare, dzięki czemu wartości jej zbioru zostały wyśrodkowane i wyskalowane wobec średniej równej 0. Z powyższego wynika, że wartości w zbiorze dość znacząco odchylają się względem średniej, na co wskazały również wcześniejsze obliczenia (wariancja, ochylenie) i wizualizacje (wykres pudełkowy)."
   ]
  },
  {
   "cell_type": "markdown",
   "id": "4fb6c2fa",
   "metadata": {},
   "source": [
    "# korelacja"
   ]
  },
  {
   "cell_type": "code",
   "execution_count": 14,
   "id": "9c09ef98",
   "metadata": {},
   "outputs": [
    {
     "data": {
      "image/png": "[encoded data removed]",
      "text/plain": [
       "<Figure size 432x288 with 1 Axes>"
      ]
     },
     "metadata": {
      "needs_background": "light"
     },
     "output_type": "display_data"
    }
   ],
   "source": [
    "pclass_values = dataset.loc[dataset['Fare'].notnull(), 'Pclass'].values\n",
    "plt.scatter(x=fare_values, y=pclass_values, alpha=0.5)\n",
    "plt.xlabel('Fare')\n",
    "plt.ylabel('Pclass')\n",
    "plt.show()"
   ]
  },
  {
   "cell_type": "markdown",
   "id": "57441e8c",
   "metadata": {},
   "source": [
    "Z ciekawości zbadałam korelację pomiędzy wartością opłaty Fare a klasą Pclass (1, 2 lub 3). Z powyższej grafiki wynika korelacja wskazująca na ponoszenie wyższych opłat przez podróżujących w 1 klasie, co można tłumaczyć większą ilością bagaży (wyższa opłata) zapewne zamożnych pasażerów."
   ]
  },
  {
   "cell_type": "code",
   "execution_count": null,
   "id": "dfacb489",
   "metadata": {},
   "outputs": [],
   "source": []
  }
 ],
 "metadata": {
  "kernelspec": {
   "display_name": "Python 3 (ipykernel)",
   "language": "python",
   "name": "python3"
  },
  "language_info": {
   "codemirror_mode": {
    "name": "ipython",
    "version": 3
   },
   "file_extension": ".py",
   "mimetype": "text/x-python",
   "name": "python",
   "nbconvert_exporter": "python",
   "pygments_lexer": "ipython3",
   "version": "3.10.4"
  }
 },
 "nbformat": 4,
 "nbformat_minor": 5
}
